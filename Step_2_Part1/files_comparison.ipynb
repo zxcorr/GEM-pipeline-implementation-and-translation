{
 "cells": [
  {
   "cell_type": "code",
   "execution_count": 1,
   "id": "6e09faeb",
   "metadata": {},
   "outputs": [],
   "source": [
    "def file_comparison(filename_1, filename_2):\n",
    "    with open(filename_1) as file_1, open(filename_2) as file_2:\n",
    "        file_1, file_2 = file_1.readlines(), file_2.readlines()\n",
    "        len_1, len_2 = len(file_1), len(file_2)\n",
    "        if len_1 != len_2:\n",
    "            print(f\"different lengths: len_1={len_1}, len_2={len_2}, dif={len_1 - len_2}\")\n",
    "            \n",
    "        n_of_errors = 0\n",
    "        drift = 0\n",
    "        i=0\n",
    "        while i < min(len_1+drift, len_2)-1:\n",
    "            file_1_line = clean(file_1[i+drift])\n",
    "            file_2_line = clean(file_2[i])\n",
    "            if abs(file_1_line - file_2_line) > 0.01:\n",
    "                file_1_next_line = clean(file_1[i+drift+1])\n",
    "                if abs(file_1_next_line - file_2_line) > 0.1:\n",
    "                    print(f\"Line {i+drift}|{i}:\\n{file_1[i]}{file_2[i]}\")\n",
    "                    n_of_errors += 1\n",
    "                else:\n",
    "                    drift +=1\n",
    "            i+=1\n",
    "        print(f\"\\nNumber of errors = {n_of_errors}, drift={drift}\")\n",
    "        \n",
    "def clean(string):\n",
    "    number = string\n",
    "    for item in [\"\\n\", \"\\t\", \" \"]:\n",
    "        number = number.replace(item, \"\")\n",
    "    number = float(number)\n",
    "    return number"
   ]
  },
  {
   "cell_type": "code",
   "execution_count": 2,
   "id": "f0b4b313",
   "metadata": {},
   "outputs": [
    {
     "name": "stdout",
     "output_type": "stream",
     "text": [
      "\n",
      "Number of errors = 0, drift=0\n"
     ]
    }
   ],
   "source": [
    "filename_1 = \"/media/nicolli/eabdalla2012/resultados_nicolli/tradução_gem_modulos/Step_1_files/dat/99_05_1822574423.dat\"\n",
    "filename_2 = \"/media/nicolli/eabdalla2012/resultados_nicolli/2300mhz/dat/filelis76_dat/99_05_1822574423.dat\"\n",
    "file_comparison(filename_1, filename_2)"
   ]
  }
 ],
 "metadata": {
  "kernelspec": {
   "display_name": "Python 3 (ipykernel)",
   "language": "python",
   "name": "python3"
  },
  "language_info": {
   "codemirror_mode": {
    "name": "ipython",
    "version": 3
   },
   "file_extension": ".py",
   "mimetype": "text/x-python",
   "name": "python",
   "nbconvert_exporter": "python",
   "pygments_lexer": "ipython3",
   "version": "3.11.5"
  }
 },
 "nbformat": 4,
 "nbformat_minor": 5
}
