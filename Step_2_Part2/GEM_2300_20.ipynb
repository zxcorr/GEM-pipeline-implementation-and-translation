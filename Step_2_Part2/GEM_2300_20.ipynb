{
 "cells": [
  {
   "cell_type": "code",
   "execution_count": null,
   "id": "c8f4c7d8",
   "metadata": {},
   "outputs": [],
   "source": [
    "import numpy as np\n",
    "import math"
   ]
  },
  {
   "cell_type": "markdown",
   "id": "1cd9d3cd",
   "metadata": {
    "slideshow": {
     "slide_type": "notes"
    }
   },
   "source": [
    "----------------------------GEM 2 : ANTENNA TEMPERATURE AND SUN EPHEMERIS --------------------------------------"
   ]
  },
  {
   "cell_type": "code",
   "execution_count": null,
   "id": "b13103f9",
   "metadata": {},
   "outputs": [],
   "source": [
    "def main():\n",
    "    \n",
    "    Dir,Dir1,Dir2,Dir3 = directories()\n",
    "    jlist,jsite,nsf,mode,jbase,filelist = user_inputs()\n",
    "    tag, sub_file_list, file_name_list = input_files(filelist)\n",
    "    LAMBA,LAT,azoff,elev30,gain,Tsys,T2cal,dT2cal,etagain,TAatm30,TAgnd = data_site(mode)\n",
    "    \n",
    "    for file_name_index in range(n_files):\n",
    "        jframe, time, elevat, signal, T1, T2, T4, Tns, Vns, azimut = input_datarr(file_name,Dir1,Dir2) \n",
    "        \"...\"\n",
    "    "
   ]
  },
  {
   "cell_type": "code",
   "execution_count": null,
   "id": "09a9c5e6",
   "metadata": {},
   "outputs": [],
   "source": [
    "def user_inputs():\n",
    "    jlist = int(input(\"Single file [1] or Multiple files [2]?: \\n\"))\n",
    "    print(\"\\n\")\n",
    "\n",
    "    jsite = int(input(\"Enter the observational site => Bishop [1] / Cachoeira Paulista [2] / Villa de Leyva [3]\\n\"))\n",
    "    print(\"\\n\")\n",
    "\n",
    "    nsf = int(input(\"Noise source fired?: Yes [1] or No [2]\\n\"))\n",
    "    print(\"\\n\")\n",
    "    jgnd = int(input(\"Substract ground profile?: Yes [1] or No [2]\\n\"))\n",
    "    print(\"\\n\")\n",
    "    mode = int(input(\"Process signal to antenna temperature?: Yes [1] or No [2]\\n\"))\n",
    "    print(\"\\n\")\n",
    "    jbase = int(input(\"Apply baseline offset?: Yes [1] or No [2]\\n\"))\n",
    "    print(\"\\n\")\n",
    "    \n",
    "    filelist = input(\"Enter the filelist name: \\n\")\n",
    "    print(\"\\n\")\n",
    "    \n",
    "    return jlist,jsite,nsf,mode,jbase,filelist"
   ]
  },
  {
   "cell_type": "code",
   "execution_count": null,
   "id": "dfe4fd63",
   "metadata": {},
   "outputs": [],
   "source": [
    "def data_site(mode):\n",
    "    \n",
    "    #For Cachoeira Paulista\n",
    "    LAMBDA = 44.998611 # longitude\n",
    "    LAT = -22.68333 # latitude\n",
    "    \n",
    "    azoff = -119.303\n",
    "    elev30 = 29.034\n",
    "    \n",
    "    gain = 50.928 # (KVe-1)\n",
    "    Tsys = 61.644\n",
    "    T2cal = 308.030529 # RF plate Tcal (K)\n",
    "    dT2cal = 0.002\n",
    "    etagain = 0.02164 # gain susceptability (Ke-1)\n",
    "    \n",
    "    TAatm30 = 2.2930 # atmospheric emission (K)\n",
    "    TAgnd30 = 0.0    # inderteminate ground emission (K)\n",
    "    \n",
    "    \n",
    "    return LAMBA,LAT,azoff,elev30,gain,Tsys,T2cal,dT2cal,etagain,TAatm30,TAgnd"
   ]
  },
  {
   "cell_type": "code",
   "execution_count": null,
   "id": "6ad39d6c",
   "metadata": {},
   "outputs": [],
   "source": [
    "def directories():\n",
    "    \n",
    "    Dir = \"/media/nicolli/eabdalla2012/resultados_nicolli/tradução_gem_modulos/Step_1_files/txt/\" \n",
    "    Dir1 = \"/media/nicolli/eabdalla2012/resultados_nicolli/tradução_gem_modulos/Step_1_files/dat/\"\n",
    "    Dir2 = \"/media/nicolli/eabdalla2012/resultados_nicolli/tradução_gem_modulos/Step_2_Part1/azimuth/\"\n",
    "    Dir3 = \"/media/nicolli/eabdalla2012/resultados_nicolli/tradução_gem_modulos/Step_2_Part2/sak/\"\n",
    "    \n",
    "    return Dir,Dir1,Dir2,Dir3"
   ]
  },
  {
   "cell_type": "code",
   "execution_count": null,
   "id": "7a715fe9",
   "metadata": {},
   "outputs": [],
   "source": [
    "def input_files(filelist):\n",
    "\n",
    "    Dir, Dir1, Dir2, Dir3 = directories()\n",
    "    with open(Dir + filelist) as arq: \n",
    "        filelist = arq.readlines()\n",
    "        n_files = len(filelist)\n",
    "        sub_file_list, tag, file_name_list = [], [], [], []\n",
    "        for file_name_index in range(n_files):\n",
    "            s_datetag = str(filelist[file_name_index])\n",
    "            tag.append(s_datetag)\n",
    "            raw_name = filelist[file_name_index]\n",
    "            sub_file_list.append(raw_name)\n",
    "            #----------------------------\n",
    "            file_name = raw_name\n",
    "            file_name = file_name.replace(\"\\t\", \"\")\n",
    "            file_name = file_name.replace(\"\\n\", \"\")\n",
    "            file_name_list.append(file_name)\n",
    "\n",
    "    return tag, sub_file_list, file_name_list"
   ]
  },
  {
   "cell_type": "code",
   "execution_count": null,
   "id": "cb6e68b0",
   "metadata": {},
   "outputs": [],
   "source": [
    "def d_m_y(file_name_list):\n",
    "    \n",
    "    jday, month, jyear = [], [], []\n",
    "    \n",
    "    for i in range(file_name_list):\n",
    "        \n",
    "        jday.append(i[6:8])\n",
    "        month.append(i[3:5])\n",
    "        jyear.append(i[0:2])\n",
    "    \n",
    "    return jday,month,jyear"
   ]
  },
  {
   "cell_type": "code",
   "execution_count": null,
   "id": "1c6ab1fd",
   "metadata": {},
   "outputs": [],
   "source": [
    "def rot_speed_analys():\n",
    "    \n",
    "    #adaptar um trecho do código anterior para cá.\n",
    "    \n",
    "    #refaz uma parte do código anterior, obtendo dpf e assim calcular \n",
    "    #os azimutes referentes aos NS firings."
   ]
  },
  {
   "cell_type": "code",
   "execution_count": null,
   "id": "17dd2482",
   "metadata": {},
   "outputs": [],
   "source": [
    "def receive_noise_par():\n",
    "    \n",
    "    Ph = 6.626196**(-27) # data #arrumar\n",
    "    Bk = 1.380622**(-16) # ?\n",
    "    \n",
    "    rdc = (Ph*2300e+6)/Bk\n",
    "    TAcbr = rdc/(math.exp(rdc/2.726)-1)\n",
    "    TAeg = 50**(150/2300)**2.75\n",
    "    \n",
    "    return rdc,TAcbr,TAeg"
   ]
  },
  {
   "cell_type": "code",
   "execution_count": null,
   "id": "92a76944",
   "metadata": {},
   "outputs": [],
   "source": [
    "def input_datarr(file_name,Dir1,Dir2):\n",
    "    \n",
    "    jframe, time, elevat, signal, T1, T2, T4, Tns, Vns, azimut = [],[],[],[],[],[],[],[],[],[]\n",
    "    \n",
    "    with open(Dir1 + file_name, \"r+\") as f: \n",
    "        input_data = f.readlines()\n",
    "        n_lines = len(input_data)\n",
    "        \n",
    "    \n",
    "    for line in input_data:\n",
    "        input_line = line.replace(\" \", \"\")\n",
    "        input_line = line.replace(\"\\n\", \"\")\n",
    "        input_line = input_line.split(\" \")\n",
    "        input_line = list(filter(None, input_line))\n",
    "        jjframe = float(input_line[0])\n",
    "        jtime = float(input_line[1])\n",
    "        jelevat = float(input_line[2])\n",
    "        jsignal = float(input_line[3])       \n",
    "        jT1 = float(input_line[5])    \n",
    "        jT2 = float(input_line[6])   \n",
    "        jT4 = float(input_line[7])    \n",
    "        jTns = float(input_line[10])\n",
    "        jVns = float(input_line[11])\n",
    "            \n",
    "            \n",
    "        jframe.append(jjframe)\n",
    "        time.append(jtime)\n",
    "        elevat.append(jelevat)\n",
    "        signal.append(jsignal)\n",
    "        T1.append(jT1)\n",
    "        T2.append(jT2)\n",
    "        T4.append(jT4)\n",
    "        Tns.append(jTns)\n",
    "        Vns.append(jVns)\n",
    "    \n",
    "    azi_file_n = file_name.replace(\".dat\", \"azi.dat\")\n",
    "    with open(Dir2 + azi_file_n, \"r+\") as f: \n",
    "        input_data = f.readlines()\n",
    "        n_lines = len(input_data)\n",
    "        \n",
    "    \n",
    "    for line in input_data:\n",
    "        input_line = line.replace(\" \", \"\")\n",
    "        input_line = line.replace(\"\\n\", \"\")\n",
    "        input_line = input_line.split(\" \")\n",
    "        input_line = list(filter(None, input_line))\n",
    "        jazimut = float(input_line[0])\n",
    "        \n",
    "        azimut.append(jazimut)\n",
    "        \n",
    "    return jframe, time, elevat, signal, T1, T2, T4, Tns, Vns, azimut"
   ]
  },
  {
   "cell_type": "code",
   "execution_count": null,
   "id": "8540e427",
   "metadata": {},
   "outputs": [],
   "source": [
    "def proces_data():\n",
    "    \n",
    "    # 'rascunho' da função onde será chamada funções principais de processamento de dados\n",
    "    \n",
    "    k,kk,jj,jl,ji = 0,0,1,0,0\n",
    "    first,noadd = True,True\n",
    "    compazi, upgrade = False, False\n",
    "    param = np.empty((2,3,6), order = \"F\")\n",
    "    \n",
    "    \n",
    "    return "
   ]
  },
  {
   "cell_type": "code",
   "execution_count": null,
   "id": "1ff67f6d",
   "metadata": {},
   "outputs": [],
   "source": [
    "def recr_gain_rd_bsl_corr(azimut,azoff):\n",
    "    \n",
    "    #dentro do loop de linhas de um arquivo\n",
    "    #receiver gain and radiometer baseline corrections\n",
    "    \n",
    "    azimut += azoff\n",
    "    if azimut < 0: azimut += 360\n",
    "    if azimut > 360: azimut += -360\n",
    "    \n",
    "    # celsius => Kelvin\n",
    "    DT2 = T2 - T2cal + 273.15 \n",
    "      \n",
    "    T1 = T1 + 273.15 # radiometers sensors\n",
    "    T2 = T2 + 273.15\n",
    "    T4 = T4 + 273.15\n",
    "         \n",
    "    Gaint = Gain/(etagain*DT2 + 1)\n",
    "    dG1 = Gaint/Gain  \n",
    "    dG2 = Gaint*etagain/(etagain*DT2 + 1) \n",
    "    \n",
    "    backgr2\t= TAgnd30*T4/300. + TAatm30 + TAeg + TAcbr \n",
    "    \n",
    "    if mode == 1:\n",
    "        TA = signal*Gaint - Tsys\n",
    "    else:\n",
    "        TA = signal\n",
    "        \n",
    "    if jgnd == 1:\n",
    "        TA = TA - azibin(int(azimut/3)+1)\n",
    "    \n",
    "    dTA = math.sqrt((signal*dG1 * dGain)**2 + (signal*dG2*dT2cal)**2) \n",
    "    \n",
    "    \n",
    "    \n",
    "    \n",
    "    return     "
   ]
  },
  {
   "cell_type": "code",
   "execution_count": null,
   "id": "6d1130dd",
   "metadata": {},
   "outputs": [],
   "source": [
    "def sun_ephemeris():\n",
    "    \n",
    "    "
   ]
  },
  {
   "cell_type": "code",
   "execution_count": null,
   "id": "a6499250",
   "metadata": {},
   "outputs": [],
   "source": [
    "def ns_firings():\n",
    "    \n",
    "    # inicialmente seriam usadas disparos periodicos de ruído para corrigir  \n",
    "    # variações de ganho, porém o ruído mostrou-se instavel\n",
    "    # então esse método será calculado, porém não será levado adiante nos\n",
    "    # próximos steps\n",
    "    \n",
    "    "
   ]
  }
 ],
 "metadata": {
  "kernelspec": {
   "display_name": "Python 3 (ipykernel)",
   "language": "python",
   "name": "python3"
  },
  "language_info": {
   "codemirror_mode": {
    "name": "ipython",
    "version": 3
   },
   "file_extension": ".py",
   "mimetype": "text/x-python",
   "name": "python",
   "nbconvert_exporter": "python",
   "pygments_lexer": "ipython3",
   "version": "3.11.5"
  }
 },
 "nbformat": 4,
 "nbformat_minor": 5
}
