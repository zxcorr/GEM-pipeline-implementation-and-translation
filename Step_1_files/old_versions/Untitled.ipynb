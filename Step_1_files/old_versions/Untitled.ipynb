{
 "cells": [
  {
   "cell_type": "code",
   "execution_count": null,
   "id": "555d35ad",
   "metadata": {},
   "outputs": [],
   "source": [
    "      with open(Dir + file_list) as arq:\n",
    "            filelist = arq.readlines()\n",
    "            n_files = len(filelist)\n",
    "            prevs_jffin = [0]\n",
    "            jfini_list = []\n",
    "            jffin_list = []\n",
    "            log_data = []\n",
    "            count_list, diff_list = [], []\n",
    "            for file_name_index in range(n_files):\n",
    "                file_name = filelist[file_name_index]\n",
    "                file_name = file_name.replace(\"\\t\", \"\")\n",
    "                file_name = file_name.replace(\"\\n\", \"\")\n",
    "\n",
    "                with open(Dir5 + file_name, \"r+\") as f: \n",
    "                    input_data = f.readlines()\n",
    "                    n_lines = len(input_data)\n",
    "                for line in input_data:\n",
    "                    input_line = line.replace(\" \", \"\")\n",
    "                    input_line = line.replace(\"\\n\", \"\")\n",
    "                    input_line = input_line.split(\" \")\n",
    "                    input_line = list(filter(None, input_line))\n",
    "                    logg_data = float(input_line[0])\n",
    "                    log_data.append(logg_data)\n",
    "\n",
    "                count = int(len(log_data))\n",
    "                count_list.append(count)\n",
    "                jfini = log_data[0]\n",
    "                jffin = log_data[-1]\n",
    "                jffin_list.append(jffin)\n",
    "                jfini_list.append(jfini)\n",
    "                prevs_jffin.append(jffin)\n",
    "                diff = int(jffin - jfini + 1)\n",
    "                diff_list.append(diff)\n",
    "                data1 = str(file_name_index)\n",
    "                for item in [jfini, jffin, diff, count]:\n",
    "                    data1 += f\"\\t{item}\"\n",
    "                flist_name = file_list.replace(\".txt\", \"_log.dat\")"
   ]
  }
 ],
 "metadata": {
  "kernelspec": {
   "display_name": "Python 3 (ipykernel)",
   "language": "python",
   "name": "python3"
  },
  "language_info": {
   "codemirror_mode": {
    "name": "ipython",
    "version": 3
   },
   "file_extension": ".py",
   "mimetype": "text/x-python",
   "name": "python",
   "nbconvert_exporter": "python",
   "pygments_lexer": "ipython3",
   "version": "3.11.5"
  }
 },
 "nbformat": 4,
 "nbformat_minor": 5
}
